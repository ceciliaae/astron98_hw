{
 "cells": [
  {
   "cell_type": "code",
   "execution_count": 7,
   "id": "67f32a0f-6629-460a-a484-db1aebc00368",
   "metadata": {},
   "outputs": [],
   "source": [
    "import numpy as np"
   ]
  },
  {
   "cell_type": "code",
   "execution_count": 12,
   "id": "22990a3e-348a-4358-86df-194516f5f976",
   "metadata": {},
   "outputs": [],
   "source": [
    "#1 The Odd Ones Out\n",
    "def onlyOdd(arr):\n",
    "    odds = np.array([])\n",
    "    for cluster in arr:\n",
    "        test = np.array([])\n",
    "        test = cluster[cluster%2 != 0]\n",
    "        if test.size == 3:\n",
    "            odds = np.append(odds, test)\n",
    "    odds = odds.reshape(int(odds.size/3), 3)\n",
    "    print(odds)"
   ]
  },
  {
   "cell_type": "code",
   "execution_count": 14,
   "id": "a56277e5-7d2b-4cbb-a155-d5a6376057ff",
   "metadata": {},
   "outputs": [
    {
     "name": "stdout",
     "output_type": "stream",
     "text": [
      "[[5. 7. 9.]\n",
      " [7. 7. 7.]]\n"
     ]
    }
   ],
   "source": [
    "arr = np.array([[1, 2, 3], [5, 7, 9], [2, 4, 6], [7, 7, 7]])\n",
    "onlyOdd(arr)"
   ]
  },
  {
   "cell_type": "code",
   "execution_count": 16,
   "id": "ee19ebcc-6570-47db-ae2b-99783a5c0db3",
   "metadata": {},
   "outputs": [],
   "source": [
    "#2 Let's Play Checkers! \n",
    "def checkerboard():\n",
    "    board = np.zeros((8, 8)) # Creates all zero array\n",
    "    board[::2] = 1 \n",
    "    count = 0\n",
    "    for row in board:\n",
    "        if count % 2 == 0:\n",
    "            count2 = 0\n",
    "            for num in row:\n",
    "                if count2 % 2 != 0:\n",
    "                    board[count, count2] = 0\n",
    "                count2 += 1\n",
    "        count += 1\n",
    "    count = 0\n",
    "    for row in board:\n",
    "        if count % 2 != 0:\n",
    "            count2 = 0\n",
    "            for num in row:\n",
    "                if count2 % 2 != 0:\n",
    "                    board[count, count2] = 1\n",
    "                count2 += 1\n",
    "        count += 1\n",
    "    print(board)"
   ]
  },
  {
   "cell_type": "code",
   "execution_count": 18,
   "id": "fecedfac-8e62-41b3-ac98-eff798e76877",
   "metadata": {},
   "outputs": [
    {
     "name": "stdout",
     "output_type": "stream",
     "text": [
      "[[1. 0. 1. 0. 1. 0. 1. 0.]\n",
      " [0. 1. 0. 1. 0. 1. 0. 1.]\n",
      " [1. 0. 1. 0. 1. 0. 1. 0.]\n",
      " [0. 1. 0. 1. 0. 1. 0. 1.]\n",
      " [1. 0. 1. 0. 1. 0. 1. 0.]\n",
      " [0. 1. 0. 1. 0. 1. 0. 1.]\n",
      " [1. 0. 1. 0. 1. 0. 1. 0.]\n",
      " [0. 1. 0. 1. 0. 1. 0. 1.]]\n"
     ]
    }
   ],
   "source": [
    "checkerboard()"
   ]
  },
  {
   "cell_type": "code",
   "execution_count": 20,
   "id": "fadaac37-2210-4cea-b2fb-05680ceca48c",
   "metadata": {},
   "outputs": [],
   "source": [
    "def reverse_checkerboard():\n",
    "    board = np.zeros((8, 8))\n",
    "    board[::2] = 1 \n",
    "    count = 0\n",
    "    for row in board:\n",
    "        if count % 2 == 0:\n",
    "            count2 = 0\n",
    "            for num in row:\n",
    "                if count2 % 2 != 0:\n",
    "                    board[count, count2] = 0\n",
    "                count2 += 1\n",
    "        count += 1\n",
    "    count = 0\n",
    "    for row in board:\n",
    "        if count % 2 != 0:\n",
    "            count2 = 0\n",
    "            for num in row:\n",
    "                if count2 % 2 != 0:\n",
    "                    board[count, count2] = 1\n",
    "                count2 += 1\n",
    "        count += 1\n",
    "    # Switch zeros and ones\n",
    "    i = 0\n",
    "    for row in board:\n",
    "        j = 0\n",
    "        for num in row:\n",
    "            if row[j] == 0:\n",
    "                board[i, j] = 1\n",
    "            elif row[j] == 1:\n",
    "                board[i, j] = 0\n",
    "            j += 1\n",
    "        i += 1\n",
    "    print(board)"
   ]
  },
  {
   "cell_type": "code",
   "execution_count": 22,
   "id": "96318555-7b10-436d-8bcf-e56990b2c57d",
   "metadata": {},
   "outputs": [
    {
     "name": "stdout",
     "output_type": "stream",
     "text": [
      "[[0. 1. 0. 1. 0. 1. 0. 1.]\n",
      " [1. 0. 1. 0. 1. 0. 1. 0.]\n",
      " [0. 1. 0. 1. 0. 1. 0. 1.]\n",
      " [1. 0. 1. 0. 1. 0. 1. 0.]\n",
      " [0. 1. 0. 1. 0. 1. 0. 1.]\n",
      " [1. 0. 1. 0. 1. 0. 1. 0.]\n",
      " [0. 1. 0. 1. 0. 1. 0. 1.]\n",
      " [1. 0. 1. 0. 1. 0. 1. 0.]]\n"
     ]
    }
   ],
   "source": [
    "reverse_checkerboard()"
   ]
  },
  {
   "cell_type": "code",
   "execution_count": 127,
   "id": "01ba99dc-e239-46b7-870f-f7d4e63340b9",
   "metadata": {},
   "outputs": [],
   "source": [
    "#3 The Expanding Universe\n",
    "def expansion(universe, num):\n",
    "    expanded = np.array([])\n",
    "    i = 0\n",
    "    for word in universe: \n",
    "        spaced = \" \"\n",
    "        for letter in word: \n",
    "            spaced = spaced + letter\n",
    "            spaced = spaced + \" \"*num\n",
    "        expanded = np.append(expanded, spaced)\n",
    "        i += 1\n",
    "    print (expanded)"
   ]
  },
  {
   "cell_type": "code",
   "execution_count": 129,
   "id": "32bf13eb-d244-45f2-8a74-5e632a22938f",
   "metadata": {},
   "outputs": [
    {
     "name": "stdout",
     "output_type": "stream",
     "text": [
      "[' g    a    l    a    x    y    '\n",
      " ' c    l    u    s    t    e    r    s    ']\n"
     ]
    }
   ],
   "source": [
    "universe = np.array([\"galaxy\", \"clusters\"])\n",
    "expansion(universe, 4)"
   ]
  },
  {
   "cell_type": "code",
   "execution_count": 163,
   "id": "b2494584-2b74-4eab-a9a2-e3e26f1687ef",
   "metadata": {},
   "outputs": [],
   "source": [
    "#4\n",
    "def secondLargest(planets):\n",
    "    sorted = np.sort(planets)\n",
    "    values = np.array([])\n",
    "    for row in sorted:\n",
    "        values = np.append(values, row[1])\n",
    "    print(values)"
   ]
  },
  {
   "cell_type": "code",
   "execution_count": 147,
   "id": "f453ac9c-e1ac-4a2d-b3ed-4e084064b5a9",
   "metadata": {},
   "outputs": [
    {
     "name": "stdout",
     "output_type": "stream",
     "text": [
      "[[202 535 960 370 206]\n",
      " [171 800 120 714 221]\n",
      " [566 314 430 558 187]\n",
      " [472 199 971 763 230]\n",
      " [761 408 869 443 591]]\n"
     ]
    }
   ],
   "source": [
    "np.random.seed(42)\n",
    "planets = np.random.randint(100, 1000, (5, 5))\n",
    "print (planets)"
   ]
  },
  {
   "cell_type": "code",
   "execution_count": 167,
   "id": "5b6a31b0-8179-4cd3-b444-a5315d9073b5",
   "metadata": {},
   "outputs": [
    {
     "name": "stdout",
     "output_type": "stream",
     "text": [
      "[206. 171. 314. 230. 443.]\n"
     ]
    }
   ],
   "source": [
    "secondLargest(planets)"
   ]
  }
 ],
 "metadata": {
  "kernelspec": {
   "display_name": "Python 3 (ipykernel)",
   "language": "python",
   "name": "python3"
  },
  "language_info": {
   "codemirror_mode": {
    "name": "ipython",
    "version": 3
   },
   "file_extension": ".py",
   "mimetype": "text/x-python",
   "name": "python",
   "nbconvert_exporter": "python",
   "pygments_lexer": "ipython3",
   "version": "3.12.4"
  }
 },
 "nbformat": 4,
 "nbformat_minor": 5
}
